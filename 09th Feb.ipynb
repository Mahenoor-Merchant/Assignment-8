{
 "cells": [
  {
   "cell_type": "markdown",
   "id": "4f0f37a6-1aa2-47a2-baf8-0bb5729f3cda",
   "metadata": {},
   "source": [
    "### Q1. Create a vehicle class with an init method having instance variables as name_of_vehicle, max_speedand average_of_vehicle.3"
   ]
  },
  {
   "cell_type": "code",
   "execution_count": 1,
   "id": "3c49ed30-120b-41aa-b176-524808f626b9",
   "metadata": {},
   "outputs": [],
   "source": [
    "class vehicle:\n",
    "    def vehicle_details(self,name_of_vehicle,max_speed,average_of_vehicle):\n",
    "        self.name=name_of_vehicle\n",
    "        self.max_speed=max_speed\n",
    "        self.average_of_vehicle=average_of_vehicle\n"
   ]
  },
  {
   "cell_type": "markdown",
   "id": "85fc5588-343a-48f2-aabc-11af7569e663",
   "metadata": {},
   "source": [
    "### Q2. Create a child class car from the vehicle class created in Que 1, which will inherit the vehicle class. Create a method named seating_capacity which takes capacity as an argument and returns the name of the vehicle and its seating capacity."
   ]
  },
  {
   "cell_type": "code",
   "execution_count": 2,
   "id": "a294d02b-25ea-43e2-9c20-d26f43f4a1fe",
   "metadata": {},
   "outputs": [],
   "source": [
    "class car(vehicle):\n",
    "    def seating_capacity(self,seating_capacity):\n",
    "        return self.name,seating_capacity\n",
    "        \n",
    "    "
   ]
  },
  {
   "cell_type": "code",
   "execution_count": 5,
   "id": "0f01dc77-f32a-46df-ab83-6ce671a6b13d",
   "metadata": {},
   "outputs": [],
   "source": [
    "toyota=car()"
   ]
  },
  {
   "cell_type": "code",
   "execution_count": 6,
   "id": "5645e3c8-b9e8-4de6-be63-74237c717525",
   "metadata": {},
   "outputs": [],
   "source": [
    "toyota.vehicle_details(\"toyota\",\"850km/hr\",\"500km/hr\")"
   ]
  },
  {
   "cell_type": "code",
   "execution_count": 7,
   "id": "f6f8a389-8e44-4905-994a-7b772ea69afc",
   "metadata": {},
   "outputs": [
    {
     "data": {
      "text/plain": [
       "('toyota', '5 person')"
      ]
     },
     "execution_count": 7,
     "metadata": {},
     "output_type": "execute_result"
    }
   ],
   "source": [
    "toyota.seating_capacity(\"5 person\")"
   ]
  },
  {
   "cell_type": "markdown",
   "id": "d8e886ad-d35a-46a2-95c8-33c74ea911ca",
   "metadata": {},
   "source": [
    "### Q3. What is multiple inheritance? Write a python code to demonstrate multiple inheritance."
   ]
  },
  {
   "cell_type": "code",
   "execution_count": 8,
   "id": "acd10a7d-7b48-40a2-8ffc-ac1a27589977",
   "metadata": {},
   "outputs": [],
   "source": [
    "class parent1:\n",
    "    def parent_1(self):\n",
    "        print(\"this is parent class 1\")\n",
    "        "
   ]
  },
  {
   "cell_type": "code",
   "execution_count": 10,
   "id": "03c13c77-a5f5-4a3f-8ace-7f42f38f5e84",
   "metadata": {},
   "outputs": [],
   "source": [
    "class parent2:\n",
    "    def parent_2(self):\n",
    "        print(\"this is parent class 2\")\n",
    "        "
   ]
  },
  {
   "cell_type": "code",
   "execution_count": 12,
   "id": "383e7a7c-3071-46dc-8371-3ce81de56175",
   "metadata": {},
   "outputs": [],
   "source": [
    "class child(parent1,parent2):\n",
    "    def child(self):\n",
    "        print(\"this is child class\")\n",
    "    "
   ]
  },
  {
   "cell_type": "code",
   "execution_count": 13,
   "id": "7d046472-01c7-4b65-a187-ba85408cc5c8",
   "metadata": {},
   "outputs": [],
   "source": [
    "obj_child=child()"
   ]
  },
  {
   "cell_type": "code",
   "execution_count": 16,
   "id": "0f4db0c2-3901-4d59-8b7a-62b8b15f2e2a",
   "metadata": {},
   "outputs": [
    {
     "name": "stdout",
     "output_type": "stream",
     "text": [
      "this is parent class 1\n"
     ]
    }
   ],
   "source": [
    "obj_child.parent_1()"
   ]
  },
  {
   "cell_type": "code",
   "execution_count": 17,
   "id": "5223774e-094b-4fc6-ad38-4ad036b60682",
   "metadata": {},
   "outputs": [
    {
     "name": "stdout",
     "output_type": "stream",
     "text": [
      "this is parent class 2\n"
     ]
    }
   ],
   "source": [
    "obj_child.parent_2()"
   ]
  },
  {
   "cell_type": "code",
   "execution_count": 18,
   "id": "f687436e-cc2d-4f04-b263-2c7f66bdb96e",
   "metadata": {},
   "outputs": [
    {
     "name": "stdout",
     "output_type": "stream",
     "text": [
      "this is child class\n"
     ]
    }
   ],
   "source": [
    "obj_child.child()"
   ]
  },
  {
   "cell_type": "markdown",
   "id": "c2dad390-b60f-42b6-8ba8-453c3f767c1e",
   "metadata": {},
   "source": [
    "This is an example of multiple inheritance, where child class inherits parent class 1 and parent class 2."
   ]
  },
  {
   "cell_type": "markdown",
   "id": "66111b6e-a25d-4f70-ac9a-5a01cc80ed1d",
   "metadata": {},
   "source": [
    "### Q4. What are getter and setter in python? Create a class and create a getter and a setter method in this class."
   ]
  },
  {
   "cell_type": "markdown",
   "id": "7e67f0e4-0010-4bcd-9b1a-c8090ac27f6f",
   "metadata": {},
   "source": [
    "Getters and setters are methods used in object-oriented programming to access and modify the values of an object's attributes. In Python, getters and setters can be implemented using property decorators.\n",
    "\n",
    "A getter is a method that retrieves the value of an attribute. It is used to get the value of a private attribute, which is not directly accessible from outside the class.\n",
    "\n",
    "A setter, on the other hand, is a method that sets the value of an attribute. It is used to set the value of a private attribute, which is not directly modifiable from outside the class."
   ]
  },
  {
   "cell_type": "code",
   "execution_count": 30,
   "id": "9d880332-0e81-4188-becd-ea2a58a82084",
   "metadata": {},
   "outputs": [],
   "source": [
    "class BankAccount:\n",
    "    \n",
    "    Bank_Name=\"Bank of India\"\n",
    "\n",
    "    def __init__(self,balance):\n",
    "        self.__balance=balance\n",
    "        \n",
    "    def get_balance(self):\n",
    "        return self.__balance\n",
    "    \n",
    "    def set_Bank_Name(self,Bank_Name):\n",
    "        Bank_Name=Bank_Name\n",
    "        return Bank_Name\n",
    "        "
   ]
  },
  {
   "cell_type": "code",
   "execution_count": 32,
   "id": "4d0cc90d-f3a6-4726-bda2-ea21c3ad2242",
   "metadata": {},
   "outputs": [],
   "source": [
    "Pwskills=BankAccount(5000)"
   ]
  },
  {
   "cell_type": "code",
   "execution_count": 29,
   "id": "49b79808-cfef-416a-9e60-8568c715a45b",
   "metadata": {},
   "outputs": [
    {
     "data": {
      "text/plain": [
       "5000"
      ]
     },
     "execution_count": 29,
     "metadata": {},
     "output_type": "execute_result"
    }
   ],
   "source": [
    "Pwskills.get_balance()"
   ]
  },
  {
   "cell_type": "code",
   "execution_count": 33,
   "id": "a3c58c93-bb2a-4506-830a-dee9b249fb54",
   "metadata": {},
   "outputs": [
    {
     "data": {
      "text/plain": [
       "'City Bank'"
      ]
     },
     "execution_count": 33,
     "metadata": {},
     "output_type": "execute_result"
    }
   ],
   "source": [
    "Pwskills.set_Bank_Name(\"City Bank\")"
   ]
  },
  {
   "cell_type": "markdown",
   "id": "d7a61926-31af-465b-9cdf-064c75ad37d9",
   "metadata": {},
   "source": [
    "### Q5.What is method overriding in python? Write a python code to demonstrate method overriding."
   ]
  },
  {
   "cell_type": "markdown",
   "id": "0f7db771-0d23-4e3b-8090-12173371a6a2",
   "metadata": {},
   "source": [
    "Method overriding is a feature of object-oriented programming in which a subclass provides its own implementation of a method that is already defined in its parent class. When a subclass overrides a method, it replaces the implementation of the method in the parent class."
   ]
  },
  {
   "cell_type": "code",
   "execution_count": 34,
   "id": "be8aa893-bdcb-4fc0-91be-6c532599bd8c",
   "metadata": {},
   "outputs": [],
   "source": [
    "class Animal:\n",
    "    def make_sound(self):\n",
    "        print(\"this animal makes sound.\")"
   ]
  },
  {
   "cell_type": "code",
   "execution_count": 42,
   "id": "cf5623b3-f029-4ef3-aecc-aa5d9597c86a",
   "metadata": {},
   "outputs": [],
   "source": [
    "class dog(Animal):\n",
    "    def make_sound(self):\n",
    "        print(\"this animal barks\")"
   ]
  },
  {
   "cell_type": "code",
   "execution_count": 43,
   "id": "632c15ee-5201-44fa-bb25-6dcdbef0d5cf",
   "metadata": {},
   "outputs": [],
   "source": [
    "Tom=dog()"
   ]
  },
  {
   "cell_type": "code",
   "execution_count": 45,
   "id": "c5f9433f-e6ad-46e1-a016-8aa786ade11b",
   "metadata": {},
   "outputs": [
    {
     "name": "stdout",
     "output_type": "stream",
     "text": [
      "this animal barks\n"
     ]
    }
   ],
   "source": [
    "Tom.make_sound()"
   ]
  },
  {
   "cell_type": "code",
   "execution_count": 47,
   "id": "3e30f170-c1eb-4d51-b24e-f8f165e9f34b",
   "metadata": {},
   "outputs": [],
   "source": [
    "My_animal=Animal()"
   ]
  },
  {
   "cell_type": "code",
   "execution_count": 49,
   "id": "6265be45-0ab4-4b73-b7d2-1b64c32be6c3",
   "metadata": {},
   "outputs": [
    {
     "name": "stdout",
     "output_type": "stream",
     "text": [
      "this animal makes sound.\n"
     ]
    }
   ],
   "source": [
    "My_animal.make_sound()"
   ]
  }
 ],
 "metadata": {
  "kernelspec": {
   "display_name": "Python 3 (ipykernel)",
   "language": "python",
   "name": "python3"
  },
  "language_info": {
   "codemirror_mode": {
    "name": "ipython",
    "version": 3
   },
   "file_extension": ".py",
   "mimetype": "text/x-python",
   "name": "python",
   "nbconvert_exporter": "python",
   "pygments_lexer": "ipython3",
   "version": "3.10.8"
  }
 },
 "nbformat": 4,
 "nbformat_minor": 5
}
